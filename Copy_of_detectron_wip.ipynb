{
  "nbformat": 4,
  "nbformat_minor": 0,
  "metadata": {
    "colab": {
      "name": "Copy of detectron wip.ipynb",
      "version": "0.3.2",
      "provenance": [],
      "collapsed_sections": [],
      "toc_visible": true,
      "include_colab_link": true
    },
    "kernelspec": {
      "name": "python2",
      "display_name": "Python 2"
    },
    "accelerator": "GPU"
  },
  "cells": [
    {
      "cell_type": "markdown",
      "metadata": {
        "id": "view-in-github",
        "colab_type": "text"
      },
      "source": [
        "<a href=\"https://colab.research.google.com/github/saahilgupta93/awesome-collection-of-google-colab-notebooks/blob/master/Copy_of_detectron_wip.ipynb\" target=\"_parent\"><img src=\"https://colab.research.google.com/assets/colab-badge.svg\" alt=\"Open In Colab\"/></a>"
      ]
    },
    {
      "metadata": {
        "id": "_HjaYRdiete0",
        "colab_type": "text"
      },
      "cell_type": "markdown",
      "source": [
        "##Install Caffe2"
      ]
    },
    {
      "metadata": {
        "id": "TRvy4QhoMeeN",
        "colab_type": "code",
        "outputId": "27c3147a-1506-4ed3-af28-c49ac1a2c4b4",
        "colab": {
          "base_uri": "https://localhost:8080/",
          "height": 224
        }
      },
      "cell_type": "code",
      "source": [
        "!wget https://anaconda.org/pytorch/pytorch-nightly/1.0.0.dev20181206/download/linux-64/pytorch-nightly-1.0.0.dev20181206-py2.7_cuda9.2.148_cudnn7.4.1_0.tar.bz2\n",
        "!tar xvjf pytorch-nightly-1.0.0.dev20181206-py2.7_cuda9.2.148_cudnn7.4.1_0.tar.bz2\n",
        "!cp -r lib/python2.7/site-packages/* /usr/local/lib/python2.7/dist-packages/"
      ],
      "execution_count": 1,
      "outputs": [
        {
          "output_type": "stream",
          "text": [
            "--2019-04-17 18:16:39--  https://anaconda.org/pytorch/pytorch-nightly/1.0.0.dev20181206/download/linux-64/pytorch-nightly-1.0.0.dev20181206-py2.7_cuda9.2.148_cudnn7.4.1_0.tar.bz2\n",
            "Resolving anaconda.org (anaconda.org)... 104.17.93.24, 104.17.92.24, 2606:4700::6811:5d18, ...\n",
            "Connecting to anaconda.org (anaconda.org)|104.17.93.24|:443... connected.\n",
            "HTTP request sent, awaiting response... 404 NOT FOUND\n",
            "2019-04-17 18:16:39 ERROR 404: NOT FOUND.\n",
            "\n",
            "tar (child): pytorch-nightly-1.0.0.dev20181206-py2.7_cuda9.2.148_cudnn7.4.1_0.tar.bz2: Cannot open: No such file or directory\n",
            "tar (child): Error is not recoverable: exiting now\n",
            "tar: Child returned status 2\n",
            "tar: Error is not recoverable: exiting now\n",
            "cp: cannot stat 'lib/python2.7/site-packages/*': No such file or directory\n"
          ],
          "name": "stdout"
        }
      ]
    },
    {
      "metadata": {
        "id": "IuSxyCWGe1zy",
        "colab_type": "text"
      },
      "cell_type": "markdown",
      "source": [
        "####Check Caffe2 installation"
      ]
    },
    {
      "metadata": {
        "id": "Dto2pDK6ORIZ",
        "colab_type": "code",
        "outputId": "8edf4252-c940-4e54-d7f7-d7158c513691",
        "colab": {
          "base_uri": "https://localhost:8080/",
          "height": 51
        }
      },
      "cell_type": "code",
      "source": [
        "# To check if Caffe2 build was successful\n",
        "!python -c 'from caffe2.python import core' 2>/dev/null && echo \"Success\" || echo \"Failure\"\n",
        "\n",
        "# To check if Caffe2 GPU build was successful\n",
        "# This must print a number > 0 in order to use Detectron\n",
        "!python -c 'from caffe2.python import workspace; print(workspace.NumCudaDevices())'"
      ],
      "execution_count": 2,
      "outputs": [
        {
          "output_type": "stream",
          "text": [
            "Success\n",
            "1\n"
          ],
          "name": "stdout"
        }
      ]
    },
    {
      "metadata": {
        "id": "sUK0ybHBfBPa",
        "colab_type": "text"
      },
      "cell_type": "markdown",
      "source": [
        "##Install Cocoapi"
      ]
    },
    {
      "metadata": {
        "id": "BQ1sqXn_PSoH",
        "colab_type": "code",
        "outputId": "81a3a33f-3ba9-49eb-dc59-62f00c1015ab",
        "colab": {
          "base_uri": "https://localhost:8080/",
          "height": 3182
        }
      },
      "cell_type": "code",
      "source": [
        "!apt-get install python-dev\n",
        "!pip install cython\n",
        "!pip install pycocotools\n",
        "!git clone https://github.com/cocodataset/cocoapi.git\n",
        "!cd cocoapi/PythonAPI && make install\n",
        "\n",
        "import os\n",
        "os.environ['COCOAPI'] = \":/content/cocoapi\""
      ],
      "execution_count": 3,
      "outputs": [
        {
          "output_type": "stream",
          "text": [
            "Reading package lists... Done\n",
            "Building dependency tree       \n",
            "Reading state information... Done\n",
            "python-dev is already the newest version (2.7.15~rc1-1).\n",
            "The following package was automatically installed and is no longer required:\n",
            "  libnvidia-common-410\n",
            "Use 'apt autoremove' to remove it.\n",
            "0 upgraded, 0 newly installed, 0 to remove and 6 not upgraded.\n",
            "Requirement already satisfied: cython in /usr/local/lib/python2.7/dist-packages (0.29.6)\n",
            "Requirement already satisfied: pycocotools in /usr/local/lib/python2.7/dist-packages (2.0.0)\n",
            "fatal: destination path 'cocoapi' already exists and is not an empty directory.\n",
            "# install pycocotools to the Python site-packages\n",
            "python setup.py build_ext install\n",
            "running build_ext\n",
            "skipping 'pycocotools/_mask.c' Cython extension (up-to-date)\n",
            "building 'pycocotools._mask' extension\n",
            "creating build\n",
            "creating build/common\n",
            "creating build/temp.linux-x86_64-2.7\n",
            "creating build/temp.linux-x86_64-2.7/pycocotools\n",
            "x86_64-linux-gnu-gcc -pthread -DNDEBUG -g -fwrapv -O2 -Wall -Wstrict-prototypes -fno-strict-aliasing -Wdate-time -D_FORTIFY_SOURCE=2 -g -fdebug-prefix-map=/build/python2.7-3hk45v/python2.7-2.7.15~rc1=. -fstack-protector-strong -Wformat -Werror=format-security -fPIC -I/usr/local/lib/python2.7/dist-packages/numpy/core/include -I../common -I/usr/include/python2.7 -c ../common/maskApi.c -o build/temp.linux-x86_64-2.7/../common/maskApi.o -Wno-cpp -Wno-unused-function -std=c99\n",
            "\u001b[01m\u001b[K../common/maskApi.c:\u001b[m\u001b[K In function ‘\u001b[01m\u001b[KrleDecode\u001b[m\u001b[K’:\n",
            "\u001b[01m\u001b[K../common/maskApi.c:46:7:\u001b[m\u001b[K \u001b[01;35m\u001b[Kwarning: \u001b[m\u001b[Kthis ‘\u001b[01m\u001b[Kfor\u001b[m\u001b[K’ clause does not guard... [\u001b[01;35m\u001b[K-Wmisleading-indentation\u001b[m\u001b[K]\n",
            "       \u001b[01;35m\u001b[Kfor\u001b[m\u001b[K( k=0; k<R[i].cnts[j]; k++ ) *(M++)=v; v=!v; }}\n",
            "       \u001b[01;35m\u001b[K^~~\u001b[m\u001b[K\n",
            "\u001b[01m\u001b[K../common/maskApi.c:46:49:\u001b[m\u001b[K \u001b[01;36m\u001b[Knote: \u001b[m\u001b[K...this statement, but the latter is misleadingly indented as if it were guarded by the ‘\u001b[01m\u001b[Kfor\u001b[m\u001b[K’\n",
            "       for( k=0; k<R[i].cnts[j]; k++ ) *(M++)=v; \u001b[01;36m\u001b[Kv\u001b[m\u001b[K=!v; }}\n",
            "                                                 \u001b[01;36m\u001b[K^\u001b[m\u001b[K\n",
            "\u001b[01m\u001b[K../common/maskApi.c:\u001b[m\u001b[K In function ‘\u001b[01m\u001b[KrleFrPoly\u001b[m\u001b[K’:\n",
            "\u001b[01m\u001b[K../common/maskApi.c:166:3:\u001b[m\u001b[K \u001b[01;35m\u001b[Kwarning: \u001b[m\u001b[Kthis ‘\u001b[01m\u001b[Kfor\u001b[m\u001b[K’ clause does not guard... [\u001b[01;35m\u001b[K-Wmisleading-indentation\u001b[m\u001b[K]\n",
            "   \u001b[01;35m\u001b[Kfor\u001b[m\u001b[K(j=0; j<k; j++) x[j]=(int)(scale*xy[j*2+0]+.5); x[k]=x[0];\n",
            "   \u001b[01;35m\u001b[K^~~\u001b[m\u001b[K\n",
            "\u001b[01m\u001b[K../common/maskApi.c:166:54:\u001b[m\u001b[K \u001b[01;36m\u001b[Knote: \u001b[m\u001b[K...this statement, but the latter is misleadingly indented as if it were guarded by the ‘\u001b[01m\u001b[Kfor\u001b[m\u001b[K’\n",
            "   for(j=0; j<k; j++) x[j]=(int)(scale*xy[j*2+0]+.5); \u001b[01;36m\u001b[Kx\u001b[m\u001b[K[k]=x[0];\n",
            "                                                      \u001b[01;36m\u001b[K^\u001b[m\u001b[K\n",
            "\u001b[01m\u001b[K../common/maskApi.c:167:3:\u001b[m\u001b[K \u001b[01;35m\u001b[Kwarning: \u001b[m\u001b[Kthis ‘\u001b[01m\u001b[Kfor\u001b[m\u001b[K’ clause does not guard... [\u001b[01;35m\u001b[K-Wmisleading-indentation\u001b[m\u001b[K]\n",
            "   \u001b[01;35m\u001b[Kfor\u001b[m\u001b[K(j=0; j<k; j++) y[j]=(int)(scale*xy[j*2+1]+.5); y[k]=y[0];\n",
            "   \u001b[01;35m\u001b[K^~~\u001b[m\u001b[K\n",
            "\u001b[01m\u001b[K../common/maskApi.c:167:54:\u001b[m\u001b[K \u001b[01;36m\u001b[Knote: \u001b[m\u001b[K...this statement, but the latter is misleadingly indented as if it were guarded by the ‘\u001b[01m\u001b[Kfor\u001b[m\u001b[K’\n",
            "   for(j=0; j<k; j++) y[j]=(int)(scale*xy[j*2+1]+.5); \u001b[01;36m\u001b[Ky\u001b[m\u001b[K[k]=y[0];\n",
            "                                                      \u001b[01;36m\u001b[K^\u001b[m\u001b[K\n",
            "\u001b[01m\u001b[K../common/maskApi.c:\u001b[m\u001b[K In function ‘\u001b[01m\u001b[KrleToString\u001b[m\u001b[K’:\n",
            "\u001b[01m\u001b[K../common/maskApi.c:212:7:\u001b[m\u001b[K \u001b[01;35m\u001b[Kwarning: \u001b[m\u001b[Kthis ‘\u001b[01m\u001b[Kif\u001b[m\u001b[K’ clause does not guard... [\u001b[01;35m\u001b[K-Wmisleading-indentation\u001b[m\u001b[K]\n",
            "       \u001b[01;35m\u001b[Kif\u001b[m\u001b[K(more) c |= 0x20; c+=48; s[p++]=c;\n",
            "       \u001b[01;35m\u001b[K^~\u001b[m\u001b[K\n",
            "\u001b[01m\u001b[K../common/maskApi.c:212:27:\u001b[m\u001b[K \u001b[01;36m\u001b[Knote: \u001b[m\u001b[K...this statement, but the latter is misleadingly indented as if it were guarded by the ‘\u001b[01m\u001b[Kif\u001b[m\u001b[K’\n",
            "       if(more) c |= 0x20; \u001b[01;36m\u001b[Kc\u001b[m\u001b[K+=48; s[p++]=c;\n",
            "                           \u001b[01;36m\u001b[K^\u001b[m\u001b[K\n",
            "\u001b[01m\u001b[K../common/maskApi.c:\u001b[m\u001b[K In function ‘\u001b[01m\u001b[KrleFrString\u001b[m\u001b[K’:\n",
            "\u001b[01m\u001b[K../common/maskApi.c:220:3:\u001b[m\u001b[K \u001b[01;35m\u001b[Kwarning: \u001b[m\u001b[Kthis ‘\u001b[01m\u001b[Kwhile\u001b[m\u001b[K’ clause does not guard... [\u001b[01;35m\u001b[K-Wmisleading-indentation\u001b[m\u001b[K]\n",
            "   \u001b[01;35m\u001b[Kwhile\u001b[m\u001b[K( s[m] ) m++; cnts=malloc(sizeof(uint)*m); m=0;\n",
            "   \u001b[01;35m\u001b[K^~~~~\u001b[m\u001b[K\n",
            "\u001b[01m\u001b[K../common/maskApi.c:220:22:\u001b[m\u001b[K \u001b[01;36m\u001b[Knote: \u001b[m\u001b[K...this statement, but the latter is misleadingly indented as if it were guarded by the ‘\u001b[01m\u001b[Kwhile\u001b[m\u001b[K’\n",
            "   while( s[m] ) m++; \u001b[01;36m\u001b[Kcnts\u001b[m\u001b[K=malloc(sizeof(uint)*m); m=0;\n",
            "                      \u001b[01;36m\u001b[K^~~~\u001b[m\u001b[K\n",
            "\u001b[01m\u001b[K../common/maskApi.c:228:5:\u001b[m\u001b[K \u001b[01;35m\u001b[Kwarning: \u001b[m\u001b[Kthis ‘\u001b[01m\u001b[Kif\u001b[m\u001b[K’ clause does not guard... [\u001b[01;35m\u001b[K-Wmisleading-indentation\u001b[m\u001b[K]\n",
            "     \u001b[01;35m\u001b[Kif\u001b[m\u001b[K(m>2) x+=(long) cnts[m-2]; cnts[m++]=(uint) x;\n",
            "     \u001b[01;35m\u001b[K^~\u001b[m\u001b[K\n",
            "\u001b[01m\u001b[K../common/maskApi.c:228:34:\u001b[m\u001b[K \u001b[01;36m\u001b[Knote: \u001b[m\u001b[K...this statement, but the latter is misleadingly indented as if it were guarded by the ‘\u001b[01m\u001b[Kif\u001b[m\u001b[K’\n",
            "     if(m>2) x+=(long) cnts[m-2]; \u001b[01;36m\u001b[Kcnts\u001b[m\u001b[K[m++]=(uint) x;\n",
            "                                  \u001b[01;36m\u001b[K^~~~\u001b[m\u001b[K\n",
            "\u001b[01m\u001b[K../common/maskApi.c:\u001b[m\u001b[K In function ‘\u001b[01m\u001b[KrleToBbox\u001b[m\u001b[K’:\n",
            "\u001b[01m\u001b[K../common/maskApi.c:141:31:\u001b[m\u001b[K \u001b[01;35m\u001b[Kwarning: \u001b[m\u001b[K‘\u001b[01m\u001b[Kxp\u001b[m\u001b[K’ may be used uninitialized in this function [\u001b[01;35m\u001b[K-Wmaybe-uninitialized\u001b[m\u001b[K]\n",
            "       if(j%2==0) xp=x; else if\u001b[01;35m\u001b[K(\u001b[m\u001b[Kxp<x) { ys=0; ye=h-1; }\n",
            "                               \u001b[01;35m\u001b[K^\u001b[m\u001b[K\n",
            "x86_64-linux-gnu-gcc -pthread -DNDEBUG -g -fwrapv -O2 -Wall -Wstrict-prototypes -fno-strict-aliasing -Wdate-time -D_FORTIFY_SOURCE=2 -g -fdebug-prefix-map=/build/python2.7-3hk45v/python2.7-2.7.15~rc1=. -fstack-protector-strong -Wformat -Werror=format-security -fPIC -I/usr/local/lib/python2.7/dist-packages/numpy/core/include -I../common -I/usr/include/python2.7 -c pycocotools/_mask.c -o build/temp.linux-x86_64-2.7/pycocotools/_mask.o -Wno-cpp -Wno-unused-function -std=c99\n",
            "creating build/lib.linux-x86_64-2.7\n",
            "creating build/lib.linux-x86_64-2.7/pycocotools\n",
            "x86_64-linux-gnu-gcc -pthread -shared -Wl,-O1 -Wl,-Bsymbolic-functions -Wl,-Bsymbolic-functions -Wl,-z,relro -fno-strict-aliasing -DNDEBUG -g -fwrapv -O2 -Wall -Wstrict-prototypes -Wdate-time -D_FORTIFY_SOURCE=2 -g -fdebug-prefix-map=/build/python2.7-3hk45v/python2.7-2.7.15~rc1=. -fstack-protector-strong -Wformat -Werror=format-security -Wl,-Bsymbolic-functions -Wl,-z,relro -Wdate-time -D_FORTIFY_SOURCE=2 -g -fdebug-prefix-map=/build/python2.7-3hk45v/python2.7-2.7.15~rc1=. -fstack-protector-strong -Wformat -Werror=format-security build/temp.linux-x86_64-2.7/../common/maskApi.o build/temp.linux-x86_64-2.7/pycocotools/_mask.o -o build/lib.linux-x86_64-2.7/pycocotools/_mask.so\n",
            "running install\n",
            "running bdist_egg\n",
            "running egg_info\n",
            "writing requirements to pycocotools.egg-info/requires.txt\n",
            "writing pycocotools.egg-info/PKG-INFO\n",
            "writing top-level names to pycocotools.egg-info/top_level.txt\n",
            "writing dependency_links to pycocotools.egg-info/dependency_links.txt\n",
            "writing manifest file 'pycocotools.egg-info/SOURCES.txt'\n",
            "installing library code to build/bdist.linux-x86_64/egg\n",
            "running install_lib\n",
            "running build_py\n",
            "copying pycocotools/__init__.py -> build/lib.linux-x86_64-2.7/pycocotools\n",
            "copying pycocotools/coco.py -> build/lib.linux-x86_64-2.7/pycocotools\n",
            "copying pycocotools/mask.py -> build/lib.linux-x86_64-2.7/pycocotools\n",
            "copying pycocotools/cocoeval.py -> build/lib.linux-x86_64-2.7/pycocotools\n",
            "creating build/bdist.linux-x86_64\n",
            "creating build/bdist.linux-x86_64/egg\n",
            "creating build/bdist.linux-x86_64/egg/pycocotools\n",
            "copying build/lib.linux-x86_64-2.7/pycocotools/_mask.so -> build/bdist.linux-x86_64/egg/pycocotools\n",
            "copying build/lib.linux-x86_64-2.7/pycocotools/__init__.py -> build/bdist.linux-x86_64/egg/pycocotools\n",
            "copying build/lib.linux-x86_64-2.7/pycocotools/coco.py -> build/bdist.linux-x86_64/egg/pycocotools\n",
            "copying build/lib.linux-x86_64-2.7/pycocotools/mask.py -> build/bdist.linux-x86_64/egg/pycocotools\n",
            "copying build/lib.linux-x86_64-2.7/pycocotools/cocoeval.py -> build/bdist.linux-x86_64/egg/pycocotools\n",
            "byte-compiling build/bdist.linux-x86_64/egg/pycocotools/__init__.py to __init__.pyc\n",
            "byte-compiling build/bdist.linux-x86_64/egg/pycocotools/coco.py to coco.pyc\n",
            "byte-compiling build/bdist.linux-x86_64/egg/pycocotools/mask.py to mask.pyc\n",
            "byte-compiling build/bdist.linux-x86_64/egg/pycocotools/cocoeval.py to cocoeval.pyc\n",
            "creating stub loader for pycocotools/_mask.so\n",
            "byte-compiling build/bdist.linux-x86_64/egg/pycocotools/_mask.py to _mask.pyc\n",
            "creating build/bdist.linux-x86_64/egg/EGG-INFO\n",
            "copying pycocotools.egg-info/PKG-INFO -> build/bdist.linux-x86_64/egg/EGG-INFO\n",
            "copying pycocotools.egg-info/SOURCES.txt -> build/bdist.linux-x86_64/egg/EGG-INFO\n",
            "copying pycocotools.egg-info/dependency_links.txt -> build/bdist.linux-x86_64/egg/EGG-INFO\n",
            "copying pycocotools.egg-info/requires.txt -> build/bdist.linux-x86_64/egg/EGG-INFO\n",
            "copying pycocotools.egg-info/top_level.txt -> build/bdist.linux-x86_64/egg/EGG-INFO\n",
            "writing build/bdist.linux-x86_64/egg/EGG-INFO/native_libs.txt\n",
            "zip_safe flag not set; analyzing archive contents...\n",
            "creating 'dist/pycocotools-2.0-py2.7-linux-x86_64.egg' and adding 'build/bdist.linux-x86_64/egg' to it\n",
            "removing 'build/bdist.linux-x86_64/egg' (and everything under it)\n",
            "Processing pycocotools-2.0-py2.7-linux-x86_64.egg\n",
            "Removing /usr/local/lib/python2.7/dist-packages/pycocotools-2.0-py2.7-linux-x86_64.egg\n",
            "Copying pycocotools-2.0-py2.7-linux-x86_64.egg to /usr/local/lib/python2.7/dist-packages\n",
            "pycocotools 2.0 is already the active version in easy-install.pth\n",
            "\n",
            "Installed /usr/local/lib/python2.7/dist-packages/pycocotools-2.0-py2.7-linux-x86_64.egg\n",
            "Processing dependencies for pycocotools==2.0\n",
            "Searching for matplotlib==2.2.4\n",
            "Best match: matplotlib 2.2.4\n",
            "Adding matplotlib 2.2.4 to easy-install.pth file\n",
            "\n",
            "Using /usr/local/lib/python2.7/dist-packages\n",
            "Searching for Cython==0.29.6\n",
            "Best match: Cython 0.29.6\n",
            "Adding Cython 0.29.6 to easy-install.pth file\n",
            "Installing cython script to /usr/local/bin\n",
            "Installing cygdb script to /usr/local/bin\n",
            "Installing cythonize script to /usr/local/bin\n",
            "\n",
            "Using /usr/local/lib/python2.7/dist-packages\n",
            "Searching for setuptools==40.9.0\n",
            "Best match: setuptools 40.9.0\n",
            "Adding setuptools 40.9.0 to easy-install.pth file\n",
            "Installing easy_install script to /usr/local/bin\n",
            "Installing easy_install-3.6 script to /usr/local/bin\n",
            "\n",
            "Using /usr/local/lib/python2.7/dist-packages\n",
            "Searching for pyparsing==2.4.0\n",
            "Best match: pyparsing 2.4.0\n",
            "Adding pyparsing 2.4.0 to easy-install.pth file\n",
            "\n",
            "Using /usr/local/lib/python2.7/dist-packages\n",
            "Searching for python-dateutil==2.5.3\n",
            "Best match: python-dateutil 2.5.3\n",
            "Adding python-dateutil 2.5.3 to easy-install.pth file\n",
            "\n",
            "Using /usr/local/lib/python2.7/dist-packages\n",
            "Searching for six==1.11.0\n",
            "Best match: six 1.11.0\n",
            "Adding six 1.11.0 to easy-install.pth file\n",
            "\n",
            "Using /usr/local/lib/python2.7/dist-packages\n",
            "Searching for pytz==2018.9\n",
            "Best match: pytz 2018.9\n",
            "Adding pytz 2018.9 to easy-install.pth file\n",
            "\n",
            "Using /usr/local/lib/python2.7/dist-packages\n",
            "Searching for kiwisolver==1.0.1\n",
            "Best match: kiwisolver 1.0.1\n",
            "Adding kiwisolver 1.0.1 to easy-install.pth file\n",
            "\n",
            "Using /usr/local/lib/python2.7/dist-packages\n",
            "Searching for subprocess32==3.5.3\n",
            "Best match: subprocess32 3.5.3\n",
            "Adding subprocess32 3.5.3 to easy-install.pth file\n",
            "\n",
            "Using /usr/local/lib/python2.7/dist-packages\n",
            "Searching for backports.functools-lru-cache==1.5\n",
            "Best match: backports.functools-lru-cache 1.5\n",
            "Adding backports.functools-lru-cache 1.5 to easy-install.pth file\n",
            "\n",
            "Using /usr/local/lib/python2.7/dist-packages\n",
            "Searching for numpy==1.16.2\n",
            "Best match: numpy 1.16.2\n",
            "Adding numpy 1.16.2 to easy-install.pth file\n",
            "Installing f2py2 script to /usr/local/bin\n",
            "Installing f2py script to /usr/local/bin\n",
            "Installing f2py2.7 script to /usr/local/bin\n",
            "\n",
            "Using /usr/local/lib/python2.7/dist-packages\n",
            "Searching for cycler==0.10.0\n",
            "Best match: cycler 0.10.0\n",
            "Adding cycler 0.10.0 to easy-install.pth file\n",
            "\n",
            "Using /usr/local/lib/python2.7/dist-packages\n",
            "Finished processing dependencies for pycocotools==2.0\n",
            "rm -rf build\n"
          ],
          "name": "stdout"
        }
      ]
    },
    {
      "metadata": {
        "id": "FDjTvouDfI5l",
        "colab_type": "text"
      },
      "cell_type": "markdown",
      "source": [
        "##Install Detectron"
      ]
    },
    {
      "metadata": {
        "id": "deZtfbJ8TcBw",
        "colab_type": "code",
        "outputId": "a9797a3b-aa68-4eaa-8b59-ca9c0c749daf",
        "colab": {
          "base_uri": "https://localhost:8080/",
          "height": 819
        }
      },
      "cell_type": "code",
      "source": [
        "!git clone https://github.com/facebookresearch/detectron\n",
        "!pip install -r detectron/requirements.txt\n",
        "!cd detectron && make\n",
        "!python detectron/detectron/tests/test_spatial_narrow_as_op.py\n",
        "os.chdir('detectron')"
      ],
      "execution_count": 4,
      "outputs": [
        {
          "output_type": "stream",
          "text": [
            "fatal: destination path 'detectron' already exists and is not an empty directory.\n",
            "Requirement already satisfied: numpy>=1.13 in /usr/local/lib/python2.7/dist-packages (from -r detectron/requirements.txt (line 1)) (1.16.2)\n",
            "Requirement already satisfied: pyyaml>=3.12 in /usr/local/lib/python2.7/dist-packages (from -r detectron/requirements.txt (line 2)) (3.13)\n",
            "Requirement already satisfied: matplotlib in /usr/local/lib/python2.7/dist-packages (from -r detectron/requirements.txt (line 3)) (2.2.4)\n",
            "Requirement already satisfied: opencv-python>=3.2 in /usr/local/lib/python2.7/dist-packages (from -r detectron/requirements.txt (line 4)) (3.4.5.20)\n",
            "Requirement already satisfied: setuptools in /usr/local/lib/python2.7/dist-packages (from -r detectron/requirements.txt (line 5)) (40.9.0)\n",
            "Requirement already satisfied: Cython in /usr/local/lib/python2.7/dist-packages (from -r detectron/requirements.txt (line 6)) (0.29.6)\n",
            "Requirement already satisfied: mock in /usr/local/lib/python2.7/dist-packages (from -r detectron/requirements.txt (line 7)) (2.0.0)\n",
            "Requirement already satisfied: scipy in /usr/local/lib/python2.7/dist-packages (from -r detectron/requirements.txt (line 8)) (1.2.1)\n",
            "Requirement already satisfied: six in /usr/local/lib/python2.7/dist-packages (from -r detectron/requirements.txt (line 9)) (1.11.0)\n",
            "Requirement already satisfied: future in /usr/local/lib/python2.7/dist-packages (from -r detectron/requirements.txt (line 10)) (0.16.0)\n",
            "Requirement already satisfied: protobuf in /usr/local/lib/python2.7/dist-packages (from -r detectron/requirements.txt (line 11)) (3.7.1)\n",
            "Requirement already satisfied: cycler>=0.10 in /usr/local/lib/python2.7/dist-packages (from matplotlib->-r detectron/requirements.txt (line 3)) (0.10.0)\n",
            "Requirement already satisfied: backports.functools-lru-cache in /usr/local/lib/python2.7/dist-packages (from matplotlib->-r detectron/requirements.txt (line 3)) (1.5)\n",
            "Requirement already satisfied: subprocess32 in /usr/local/lib/python2.7/dist-packages (from matplotlib->-r detectron/requirements.txt (line 3)) (3.5.3)\n",
            "Requirement already satisfied: kiwisolver>=1.0.1 in /usr/local/lib/python2.7/dist-packages (from matplotlib->-r detectron/requirements.txt (line 3)) (1.0.1)\n",
            "Requirement already satisfied: pytz in /usr/local/lib/python2.7/dist-packages (from matplotlib->-r detectron/requirements.txt (line 3)) (2018.9)\n",
            "Requirement already satisfied: python-dateutil>=2.1 in /usr/local/lib/python2.7/dist-packages (from matplotlib->-r detectron/requirements.txt (line 3)) (2.5.3)\n",
            "Requirement already satisfied: pyparsing!=2.0.4,!=2.1.2,!=2.1.6,>=2.0.1 in /usr/local/lib/python2.7/dist-packages (from matplotlib->-r detectron/requirements.txt (line 3)) (2.4.0)\n",
            "Requirement already satisfied: funcsigs>=1; python_version < \"3.3\" in /usr/local/lib/python2.7/dist-packages (from mock->-r detectron/requirements.txt (line 7)) (1.0.2)\n",
            "Requirement already satisfied: pbr>=0.11 in /usr/local/lib/python2.7/dist-packages (from mock->-r detectron/requirements.txt (line 7)) (5.1.3)\n",
            "python setup.py develop --user\n",
            "running develop\n",
            "running egg_info\n",
            "writing Detectron.egg-info/PKG-INFO\n",
            "writing top-level names to Detectron.egg-info/top_level.txt\n",
            "writing dependency_links to Detectron.egg-info/dependency_links.txt\n",
            "writing manifest file 'Detectron.egg-info/SOURCES.txt'\n",
            "running build_ext\n",
            "copying build/lib.linux-x86_64-2.7/detectron/utils/cython_bbox.so -> detectron/utils\n",
            "copying build/lib.linux-x86_64-2.7/detectron/utils/cython_nms.so -> detectron/utils\n",
            "Creating /root/.local/lib/python2.7/site-packages/Detectron.egg-link (link to .)\n",
            "Detectron 0.0.0 is already the active version in easy-install.pth\n",
            "\n",
            "Installed /content/detectron\n",
            "Processing dependencies for Detectron==0.0.0\n",
            "Finished processing dependencies for Detectron==0.0.0\n",
            "[E init_intrinsics_check.cc:43] CPU feature avx is present on your machine, but the Caffe2 binary is not compiled with it. It means you may not get the full speed of your CPU.\n",
            "[E init_intrinsics_check.cc:43] CPU feature avx2 is present on your machine, but the Caffe2 binary is not compiled with it. It means you may not get the full speed of your CPU.\n",
            "[E init_intrinsics_check.cc:43] CPU feature fma is present on your machine, but the Caffe2 binary is not compiled with it. It means you may not get the full speed of your CPU.\n",
            "Found Detectron ops lib: /usr/local/lib/python2.7/dist-packages/torch/lib/libcaffe2_detectron_ops_gpu.so\n",
            "...\n",
            "----------------------------------------------------------------------\n",
            "Ran 3 tests in 4.888s\n",
            "\n",
            "OK\n"
          ],
          "name": "stdout"
        }
      ]
    },
    {
      "metadata": {
        "id": "kfNwOQQ8BPtk",
        "colab_type": "text"
      },
      "cell_type": "markdown",
      "source": [
        "##Run Detectron on images in detectron/demo"
      ]
    },
    {
      "metadata": {
        "id": "sTc3gUxLpo84",
        "colab_type": "code",
        "outputId": "4559bd96-9036-4502-c339-eb677abda467",
        "colab": {
          "base_uri": "https://localhost:8080/",
          "height": 241
        }
      },
      "cell_type": "code",
      "source": [
        "!python tools/infer_simple.py \\\n",
        "   --cfg configs/12_2017_baselines/e2e_keypoint_rcnn_R-101-FPN_s1x.yaml \\\n",
        "   --output-dir demo/output \\\n",
        "   --image-ext jpg \\\n",
        "   --wts https://s3-us-west-2.amazonaws.com/detectron/37698009/12_2017_baselines/e2e_keypoint_rcnn_R-101-FPN_s1x.yaml.08_45_57.YkrJgP6O/output/train/keypoints_coco_2014_train:keypoints_coco_2014_valminusminival/generalized_rcnn/model_final.pkl \\\n",
        "   --output-ext jpg \\\n",
        "  demo"
      ],
      "execution_count": 5,
      "outputs": [
        {
          "output_type": "stream",
          "text": [
            "Found Detectron ops lib: /usr/local/lib/python2.7/dist-packages/torch/lib/libcaffe2_detectron_ops_gpu.so\n",
            "[E init_intrinsics_check.cc:43] CPU feature avx is present on your machine, but the Caffe2 binary is not compiled with it. It means you may not get the full speed of your CPU.\n",
            "[E init_intrinsics_check.cc:43] CPU feature avx2 is present on your machine, but the Caffe2 binary is not compiled with it. It means you may not get the full speed of your CPU.\n",
            "[E init_intrinsics_check.cc:43] CPU feature fma is present on your machine, but the Caffe2 binary is not compiled with it. It means you may not get the full speed of your CPU.\n",
            "Traceback (most recent call last):\n",
            "  File \"tools/infer_simple.py\", line 185, in <module>\n",
            "    main(args)\n",
            "  File \"tools/infer_simple.py\", line 127, in main\n",
            "    args.weights = cache_url(args.weights, cfg.DOWNLOAD_CACHE)\n",
            "  File \"/content/detectron/detectron/utils/io.py\", line 101, in cache_url\n",
            "    'bucket: {}').format(_DETECTRON_S3_BASE_URL)\n",
            "AssertionError: Detectron only automatically caches URLs in the Detectron S3 bucket: https://dl.fbaipublicfiles.com/detectron\n"
          ],
          "name": "stdout"
        }
      ]
    },
    {
      "metadata": {
        "id": "9iVbbqpMCTUz",
        "colab_type": "text"
      },
      "cell_type": "markdown",
      "source": [
        "##Download files"
      ]
    },
    {
      "metadata": {
        "id": "wXTJo80gV0HP",
        "colab_type": "code",
        "colab": {}
      },
      "cell_type": "code",
      "source": [
        "from google.colab import files\n",
        "\n",
        "for file in os.listdir('demo/output'):\n",
        "  if file.endswith(('.jpg', '.pdf')):\n",
        "    files.download('demo/output/'+file)"
      ],
      "execution_count": 0,
      "outputs": []
    }
  ]
}